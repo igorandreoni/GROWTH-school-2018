{
 "cells": [
  {
   "cell_type": "markdown",
   "metadata": {},
   "source": [
    "# GROWTH Winter School 2018: Docker\n",
    "\n",
    "All software necessary for the school was installed on a Docker image.  You can \"pull\" the image from Docker Hub and run it on your own machine.  <br >\n",
    " "
   ]
  },
  {
   "cell_type": "markdown",
   "metadata": {},
   "source": [
    "## Install Docker\n",
    "\n",
    "You can install Docker from here: https://www.docker.com/get-started <br >\n",
    "\n",
    "Mac users with Yosemite OS or earlier should NOT install the latest version of Docker, but a previous one: <br >\n",
    "https://docs.docker.com/docker-for-mac/release-notes/\n",
    "\n",
    "Windows users should install Docker Toolbox: https://docs.docker.com/toolbox/toolbox_install_windows/ \n"
   ]
  },
  {
   "cell_type": "markdown",
   "metadata": {},
   "source": [
    "## Get the school docker image\n",
    "\n",
    "`1.` Create a Docker Hub account: https://hub.docker.com <br >\n",
    "\n",
    "`2.` Create a working directory somewhere on your machine. Here we will refer to is as `my_school_path`.\n",
    "\n",
    "`3.` Login from a terminal: "
   ]
  },
  {
   "cell_type": "code",
   "execution_count": null,
   "metadata": {
    "collapsed": true
   },
   "outputs": [],
   "source": [
    "docker login --username yourusername"
   ]
  },
  {
   "cell_type": "markdown",
   "metadata": {},
   "source": [
    "`4.` Pull the docker image"
   ]
  },
  {
   "cell_type": "code",
   "execution_count": null,
   "metadata": {
    "collapsed": true
   },
   "outputs": [],
   "source": [
    "docker pull iandreoni/school2018:latest"
   ]
  },
  {
   "cell_type": "markdown",
   "metadata": {},
   "source": [
    "`5.` Edit the following command, replacing `my_school_path` with the path [THE FULL PATH!] to the directory where Notebooks and Data are or will be. Docker will create the directory structure for you, there is no need for you to create it using mkdir. <br >\n",
    "\n",
    "All the -v options allow you to share the directories between your local machine and the docker. Without this in place, all you do in the docker (for example, completing a notebook during the school) will be lost as soon as you logout from the docker. <br >\n",
    "\n",
    "Example:<br >\n",
    "-v my_school_path/Data:/app/data <br >\n",
    "becomes <br >\n",
    "-v /Users/johnsmith/docker-school-2018/Notebooks/spectra:/app/Notebooks/spectra <br >"
   ]
  },
  {
   "cell_type": "markdown",
   "metadata": {},
   "source": [
    "Unix:"
   ]
  },
  {
   "cell_type": "code",
   "execution_count": null,
   "metadata": {
    "collapsed": true
   },
   "outputs": [],
   "source": [
    "docker run -p 9000:8888 -it --rm --name school \\\n",
    "-v my_school_path/Data:/app/data \\\n",
    "-v my_school_path/Notebooks:/app/Notebooks \\\n",
    "-v my_school_path/Notebooks/Python_Basics:/app/Notebooks/Python_Basics \\\n",
    "-v my_school_path/Notebooks/Light-curve-analysis:/app/Notebooks/Light-curve-analysis \\\n",
    "-v my_school_path/Notebooks/Observation_plan:/app/Notebooks/Observation_plan \\\n",
    "-v my_school_path/Notebooks/asteroids_ML:/app/Notebooks/asteroids_ML \\\n",
    "-v my_school_path/Notebooks/radio_low_Chandra:/app/Notebooks/radio_low_Chandra \\\n",
    "-v my_school_path/Notebooks/image_subtraction:/app/Notebooks/image_subtraction \\\n",
    "-v my_school_path/Notebooks/LIGO-galaxies-crossmatch:/app/Notebooks/LIGO-galaxies-crossmatch \\\n",
    "-v my_school_path/Notebooks/Final_winterschool_xray_tutorial_material:/app/Notebooks/Final_winterschool_xray_tutorial_material  \\\n",
    "-v my_school_path/Notebooks/Photometry:/app/Notebooks/Photometry  \\\n",
    "-v my_school_path/Notebooks/Radio_GHz:/app/Notebooks/Radio_GHz \\\n",
    "-v my_school_path/Notebooks/spectra:/app/Notebooks/spectra \\\n",
    "-v my_school_path/Notebooks/Image_reduction:/app/Notebooks/Image_reduction \\\n",
    "-v my_school_path/Notebooks/Image_reduction/image_reduction_files/reduced:/app/Notebooks/image_reduction_files/reduced \\\n",
    "iandreoni/school2018:latest"
   ]
  },
  {
   "cell_type": "markdown",
   "metadata": {},
   "source": [
    "Windows: <br >\n",
    "\n",
    "A) The path at the LEFT of the \":\" in the -v options must have backslashes \"\\\", the path at the RIGHT of the \":\" must have forward slashes <br >\n",
    "B) The backslashes at the end of each line (whose function is simply wrapping for readability) must be removed.  All the command must be on the same line. <br >\n",
    "C) Any colon \":\" present in my_school_path (for example, `C:\\program\\files`) should be replaced, in the same example, by `\\C\\` "
   ]
  },
  {
   "cell_type": "markdown",
   "metadata": {},
   "source": [
    "docker run -p 9000:8888 -it --rm --name school -v my_school_path\\module\\Data:/app/data -v my_school_path\\module\\Notebooks:/app/Notebooks -v my_school_path\\module\\Notebooks\\Python_Basics:/app/Notebooks/Python_Basics -v my_school_path\\module\\Notebooks\\Light-curve-analysis:/app/Notebooks/Light-curve-analysis -v my_school_path\\module\\Notebooks\\Observation_plan:/app/Notebooks/Observation_plan -v my_school_path\\module\\Notebooks\\asteroids_ML:/app/Notebooks/asteroids_ML -v my_school_path\\module\\Notebooks\\radio_low_Chandra:/app/Notebooks/radio_low_Chandra -v my_school_path\\module\\Notebooks\\image_subtraction:/app/Notebooks/image_subtraction -v my_school_path\\module\\Notebooks\\LIGO-galaxies-crossmatch:/app/Notebooks/LIGO-galaxies-crossmatch -v my_school_path\\module\\Notebooks\\Final_winterschool_xray_tutorial_material:/app/Notebooks/Final_winterschool_xray_tutorial_material  -v my_school_path\\module\\Notebooks\\Photometry:/app/Notebooks/Photometry -v my_school_path\\module\\Notebooks\\Radio_GHz:/app/Notebooks/Radio_GHz -v my_school_path\\module\\Notebooks\\spectra:/app/Notebooks/spectra -v my_school_path\\module\\Notebooks\\Image_reduction:/app/Notebooks/Image_reduction -v my_school_path\\module\\Notebooks\\Image_reduction\\image_reduction_files\\reduced:/app/Notebooks/image_reduction_files/reduced iandreoni/school2018:latest"
   ]
  },
  {
   "cell_type": "markdown",
   "metadata": {},
   "source": [
    "`5.` Run the command above. If you find yourself in a directory named `/app`, you succeeded! "
   ]
  },
  {
   "cell_type": "markdown",
   "metadata": {},
   "source": [
    "## Running the jupyter notebooks \n",
    "\n",
    "The working directory is called `/app`. The notebooks are in the directory called `/app/Notebooks`. <br >\n",
    "\n",
    "`0.` If you see only the notebook folders but they are empty, download the notebooks from the Google Drive and move the newly downloaded Notebooks folder in the `my_school_path` directory. \n",
    "\n",
    "`1.` To start a jupyter notebook for a module, for example the `Radio_GHz` module (same for the others):<br >"
   ]
  },
  {
   "cell_type": "code",
   "execution_count": null,
   "metadata": {
    "collapsed": true
   },
   "outputs": [],
   "source": [
    "cd /app/notebooks/Radio_GHz\n",
    "startjn"
   ]
  },
  {
   "cell_type": "markdown",
   "metadata": {},
   "source": [
    "(The startjn command is an alias to the following command:)"
   ]
  },
  {
   "cell_type": "code",
   "execution_count": null,
   "metadata": {
    "collapsed": true
   },
   "outputs": [],
   "source": [
    "jupyter-notebook --allow-root --ip=0.0.0.0 &"
   ]
  },
  {
   "cell_type": "markdown",
   "metadata": {},
   "source": [
    "After running the startjn command, you should read something similar to the following:<br >\n",
    "\n",
    "Copy/paste this URL into your browser when you connect for the first time, <br >\n",
    "&nbsp;&nbsp;&nbsp;   to login with a token: <br >\n",
    "&nbsp;&nbsp;&nbsp; &nbsp;&nbsp;&nbsp;         http://(10f4257cc766 or 127.0.0.1):8888/?token=2699e8b65e1cb776afde429631f0a28ff9abb2e459cb51ab <br >\n",
    "        \n",
    "\n",
    "`2.` Now open a web browser in your local machine and type, as web address in the top bar: <br >\n",
    "\n",
    "Unix: <br >\n",
    "localhost:9000/ followed by a copy of the token that startjn gave you. For example, in this case is <br >\n",
    "localhost:9000/?token=2699e8b65e1cb776afde429631f0a28ff9abb2e459cb51ab <br >\n",
    "\n",
    "Windows:<br >\n",
    "192.168.99.100:9000/ followed by a copy of the âtokenâ that startjn gave you. For example, in this case is <br >\n",
    "192.168.99.100:9000/?token=2699e8b65e1cb776afde429631f0a28ff9abb2e459cb51ab <br >\n",
    "\n",
    "\n",
    "### That's it! You should be able to access the notebooks now."
   ]
  }
 ],
 "metadata": {
  "kernelspec": {
   "display_name": "Python 2",
   "language": "python",
   "name": "python2"
  },
  "language_info": {
   "codemirror_mode": {
    "name": "ipython",
    "version": 2
   },
   "file_extension": ".py",
   "mimetype": "text/x-python",
   "name": "python",
   "nbconvert_exporter": "python",
   "pygments_lexer": "ipython2",
   "version": "2.7.13"
  }
 },
 "nbformat": 4,
 "nbformat_minor": 2
}
